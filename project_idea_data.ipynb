{
 "cells": [
  {
   "cell_type": "markdown",
   "id": "9c7546a6-a928-4dc9-ba78-bc0aaa5fd814",
   "metadata": {},
   "source": [
    "# Inital idea\n",
    "This should be an initial project to demonstrate my capacity to build, analysis and retrieval meaningful insights from agriculture data.\n",
    "## Data\n",
    "We will work with soybean prices and some basic description and graphics on the follow time series. \n",
    "The data come from the CONAB (The National Supply Company from Brazil)."
   ]
  },
  {
   "cell_type": "markdown",
   "id": "65383a1b-2112-4080-b7a5-a0535f478927",
   "metadata": {},
   "source": [
    "## Data import"
   ]
  },
  {
   "cell_type": "code",
   "execution_count": 2,
   "id": "1ccc92d6-8346-426e-97ca-d8eb514b0d72",
   "metadata": {},
   "outputs": [],
   "source": [
    "#import library\n",
    "import pandas as pd\n",
    "import numpy as np "
   ]
  },
  {
   "cell_type": "code",
   "execution_count": 3,
   "id": "5f808dd5-f228-4c01-9dc6-3061ef4d0ba3",
   "metadata": {},
   "outputs": [],
   "source": [
    "#read the file csv post first cleaning \n",
    "df = pd.read_csv('preco_soja.csv', delimiter= \";\")"
   ]
  },
  {
   "cell_type": "code",
   "execution_count": 4,
   "id": "15090cbf-1c3d-45cd-bb7d-dc0830285f7d",
   "metadata": {},
   "outputs": [
    {
     "name": "stdout",
     "output_type": "stream",
     "text": [
      "<class 'pandas.core.frame.DataFrame'>\n",
      "RangeIndex: 106 entries, 0 to 105\n",
      "Data columns (total 2 columns):\n",
      " #   Column  Non-Null Count  Dtype \n",
      "---  ------  --------------  ----- \n",
      " 0   date    106 non-null    object\n",
      " 1   prices  106 non-null    object\n",
      "dtypes: object(2)\n",
      "memory usage: 1.8+ KB\n",
      "            date prices\n",
      "count        106    106\n",
      "unique       106    105\n",
      "top     01.02.16  168,1\n",
      "freq           1      2 None\n"
     ]
    }
   ],
   "source": [
    "print(df.describe(), df.info())"
   ]
  },
  {
   "cell_type": "code",
   "execution_count": 5,
   "id": "3ea54e36-4317-4997-9372-632f195c82ff",
   "metadata": {},
   "outputs": [
    {
     "name": "stdout",
     "output_type": "stream",
     "text": [
      "       date prices\n",
      "0  01.02.16  67,26\n",
      "1  01.03.16  62,72\n",
      "2  01.04.16  61,52\n",
      "3  01.05.16  72,36\n",
      "4  01.06.16  81,19\n"
     ]
    }
   ],
   "source": [
    "print(df.head())"
   ]
  },
  {
   "cell_type": "markdown",
   "id": "b6f6f751-7d2a-4516-b90f-79a4a7383dbe",
   "metadata": {},
   "source": [
    "## Data cleaning and formating\n",
    "Here we can se a problem on the Dtyper and format with the \",\" and \".\" on the prices features"
   ]
  },
  {
   "cell_type": "code",
   "execution_count": 13,
   "id": "dbe5dc6e-ce12-4012-b666-fb9c561b08d5",
   "metadata": {},
   "outputs": [
    {
     "name": "stdout",
     "output_type": "stream",
     "text": [
      "<class 'pandas.core.frame.DataFrame'>\n",
      "RangeIndex: 106 entries, 0 to 105\n",
      "Data columns (total 2 columns):\n",
      " #   Column  Non-Null Count  Dtype         \n",
      "---  ------  --------------  -----         \n",
      " 0   date    106 non-null    datetime64[ns]\n",
      " 1   prices  106 non-null    float64       \n",
      "dtypes: datetime64[ns](1), float64(1)\n",
      "memory usage: 1.8 KB\n",
      "        date  prices\n",
      "0 2016-02-01   67.26\n",
      "1 2016-03-01   62.72\n",
      "2 2016-04-01   61.52\n",
      "3 2016-05-01   72.36\n",
      "4 2016-06-01   81.19\n",
      "5 2016-07-01   76.97\n",
      "6 2016-08-01   74.33\n",
      "7 2016-09-01   73.32\n",
      "8 2016-10-01   74.90\n",
      "9 2016-11-01   72.24 None\n"
     ]
    }
   ],
   "source": [
    "#changing the Dtyper from \"date\" and \"prices\" to date and float\n",
    "\n",
    "def preprocess_dataframe(df):\n",
    "    \"\"\"\n",
    "    Processes a DataFrame to:\n",
    "    - Replace commas with dots in numeric columns and convert them to float.\n",
    "    - Convert the 'data' column to datetime format.\n",
    "    \n",
    "    Parameters:\n",
    "        df : The input DataFrame with object type columns.\n",
    "\n",
    "    Returns:\n",
    "        df : df processed \n",
    "    \"\"\"\n",
    "    # Make a copy to avoid modifying the original DataFrame\n",
    "    df_copy = df.copy()\n",
    "    \n",
    "    # Convert the 'data' column to datetime, the format need to match the \"date\" format as before with a year with only 2 digit so \"%y\"\n",
    "    df_copy['date'] = pd.to_datetime(df_copy['date'], format='%d.%m.%y')\n",
    "    \n",
    "    # Replace commas with dots and convert to float for numeric columns\n",
    "    numeric_columns = ['prices']\n",
    "    for col in numeric_columns:\n",
    "        df_copy[col] = df_copy[col].str.replace(',', '.').astype(float)\n",
    "    \n",
    "    return df_copy\n",
    "\n",
    "# Processed DataFrame\n",
    "df = preprocess_dataframe(df)\n",
    "\n",
    "# Display the processed DataFrame\n",
    "print(df.head(10), df.info())"
   ]
  },
  {
   "cell_type": "code",
   "execution_count": null,
   "id": "388fb83c-525c-4fbb-bf7a-45ead7dcc0ee",
   "metadata": {},
   "outputs": [],
   "source": []
  }
 ],
 "metadata": {
  "kernelspec": {
   "display_name": "Python 3 (ipykernel)",
   "language": "python",
   "name": "python3"
  },
  "language_info": {
   "codemirror_mode": {
    "name": "ipython",
    "version": 3
   },
   "file_extension": ".py",
   "mimetype": "text/x-python",
   "name": "python",
   "nbconvert_exporter": "python",
   "pygments_lexer": "ipython3",
   "version": "3.11.10"
  }
 },
 "nbformat": 4,
 "nbformat_minor": 5
}
