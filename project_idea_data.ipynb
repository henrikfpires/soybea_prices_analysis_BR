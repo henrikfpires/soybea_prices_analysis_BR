{
 "cells": [
  {
   "cell_type": "markdown",
   "id": "9c7546a6-a928-4dc9-ba78-bc0aaa5fd814",
   "metadata": {},
   "source": [
    "# Inital idea\n",
    "This should be an initial project to demonstrate my capacity to build, analysis and retrieval meaningful insights from agriculture data.\n",
    "## Data\n",
    "We will work with soybean prices and some basic description and graphics "
   ]
  },
  {
   "cell_type": "code",
   "execution_count": 14,
   "id": "1ccc92d6-8346-426e-97ca-d8eb514b0d72",
   "metadata": {},
   "outputs": [],
   "source": [
    "import pandas as pd\n",
    "import numpy as np \n"
   ]
  },
  {
   "cell_type": "code",
   "execution_count": 15,
   "id": "5f808dd5-f228-4c01-9dc6-3061ef4d0ba3",
   "metadata": {},
   "outputs": [],
   "source": [
    "df = pd.read_csv('preco_soja.csv', delimiter= \";\")"
   ]
  },
  {
   "cell_type": "code",
   "execution_count": 16,
   "id": "15090cbf-1c3d-45cd-bb7d-dc0830285f7d",
   "metadata": {},
   "outputs": [
    {
     "name": "stdout",
     "output_type": "stream",
     "text": [
      "<class 'pandas.core.frame.DataFrame'>\n",
      "RangeIndex: 59 entries, 0 to 58\n",
      "Data columns (total 2 columns):\n",
      " #   Column  Non-Null Count  Dtype \n",
      "---  ------  --------------  ----- \n",
      " 0   date    59 non-null     object\n",
      " 1   prices  59 non-null     object\n",
      "dtypes: object(2)\n",
      "memory usage: 1.1+ KB\n",
      "            date  prices\n",
      "count         59      59\n",
      "unique        59      58\n",
      "top     01.01.20  168,10\n",
      "freq           1       2 None\n"
     ]
    }
   ],
   "source": [
    "print(df.describe(), df.info())"
   ]
  },
  {
   "cell_type": "code",
   "execution_count": null,
   "id": "3ea54e36-4317-4997-9372-632f195c82ff",
   "metadata": {},
   "outputs": [],
   "source": []
  }
 ],
 "metadata": {
  "kernelspec": {
   "display_name": "Python 3 (ipykernel)",
   "language": "python",
   "name": "python3"
  },
  "language_info": {
   "codemirror_mode": {
    "name": "ipython",
    "version": 3
   },
   "file_extension": ".py",
   "mimetype": "text/x-python",
   "name": "python",
   "nbconvert_exporter": "python",
   "pygments_lexer": "ipython3",
   "version": "3.11.10"
  }
 },
 "nbformat": 4,
 "nbformat_minor": 5
}
